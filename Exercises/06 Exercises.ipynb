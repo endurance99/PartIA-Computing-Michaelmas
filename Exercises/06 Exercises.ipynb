{
 "cells": [
  {
   "cell_type": "markdown",
   "metadata": {
    "deletable": false,
    "editable": false,
    "nbgrader": {
     "grade": false,
     "grade_id": "cell-7b3313f25bceb7a2",
     "locked": true,
     "schema_version": 3,
     "solution": false
    }
   },
   "source": [
    "## Exercise 06.1 (selecting and passing data structures)\n",
    "\n",
    "The task in Exercise 04 for computing the area of a triangle involved a function with six arguments ($x$ and $y$ components of each vertex). With six arguments, the likelihood of a user passing arguments in the wrong order is high. \n",
    "\n",
    "Use an appropriate data structure, e.g. a `list`, `tuple`, `dict`, etc, to develop a new version of the function with an improved interface (the interface is the arguments that are passed to the function) with fewer arguments. Add appropriate checks inside your function on the input data."
   ]
  },
  {
   "cell_type": "code",
   "execution_count": 11,
   "metadata": {
    "nbgrader": {
     "grade": false,
     "grade_id": "cell-50c4566d7bcbffaf",
     "locked": false,
     "schema_version": 3,
     "solution": true
    },
    "tags": [
     "otter_answer_cell"
    ]
   },
   "outputs": [
    {
     "name": "stdout",
     "output_type": "stream",
     "text": [
      "6.0\n"
     ]
    }
   ],
   "source": [
    "def area(triangle):\n",
    "    x0 = triangle[0][0]\n",
    "    y0 = triangle[0][1]\n",
    "    x1 = triangle[1][0]\n",
    "    y1 = triangle[1][1]\n",
    "    x2 = triangle[2][0]\n",
    "    y2 = triangle[2][1]\n",
    "    return abs((x0*(y1-y2) + x1*(y2-y0) + x2*(y0-y1)) / 2.0)\n",
    "\n",
    "triangle = [(0,0), (4,0), (0,3)] \n",
    "print(area(triangle))\n"
   ]
  },
  {
   "cell_type": "markdown",
   "metadata": {
    "deletable": false,
    "editable": false,
    "nbgrader": {
     "grade": false,
     "grade_id": "cell-5065052af9989fdf",
     "locked": true,
     "schema_version": 3,
     "solution": false
    }
   },
   "source": [
    "## Exercise 06.2 (selecting data structures)\n",
    "\n",
    "For a simple (non-intersecting) polygon with $n$ vertices, $(x_0, y_0)$, $(x_1, y_1)$, . . , $(x_{n-1}, y_{n-1})$, the area $A$ is given by\n",
    "$$\n",
    "A = \\left| \\frac{1}{2} \\sum_{i=0}^{n-1} \\left(x_{i} y _{i+1} - x_{i+1} y_{i} \\right) \\right|\n",
    "$$\n",
    "and where $(x_n, y_n) = (x_0, y_0)$. The vertices should be ordered as you move around the polygon.\n",
    "\n",
    "Write a function that, given only the vertex coordinates, computes the area of a simple polygon. Test your function for some simple shapes. Pay careful attention to the range of any loops. **Test for polygons without a vertex at the origin.**"
   ]
  },
  {
   "cell_type": "code",
   "execution_count": 12,
   "metadata": {
    "nbgrader": {
     "grade": false,
     "grade_id": "cell-4b5a619405787746",
     "locked": false,
     "schema_version": 3,
     "solution": true
    },
    "tags": [
     "otter_answer_cell"
    ]
   },
   "outputs": [
    {
     "name": "stdout",
     "output_type": "stream",
     "text": [
      "5\n",
      "6.5\n"
     ]
    }
   ],
   "source": [
    "nd_polygon = [(0,0), (4,0), (4,3), (6,7), (9,9)]\n",
    "def area(polygon):\n",
    "    n = len(polygon)\n",
    "    area_sum = 0.0\n",
    "\n",
    "    # When i = 0, (i+1)%n = 1. When i = n-1, (i+1)%n = 0\n",
    "    # i.e for a pentagon, n = 5, so when i = 4, (i+1)%n = 0 \n",
    "    # The shoelace formula \"wraps around\" to the first vertex after reaching the last vertex\n",
    "\n",
    "    for i in range(n):\n",
    "        x0, y0 = polygon[i]\n",
    "        x1, y1 = polygon[(i + 1) % n]\n",
    "        area_sum += x0 * y1 - x1 * y0\n",
    "    return abs(area_sum) / 2.0\n",
    "\n",
    "print(len(nd_polygon))  # Should output 5\n",
    "print(area(nd_polygon)) "
   ]
  },
  {
   "cell_type": "markdown",
   "metadata": {
    "deletable": false,
    "editable": false,
    "nbgrader": {
     "grade": false,
     "grade_id": "cell-ced99a38c7bbe7a0",
     "locked": true,
     "schema_version": 3,
     "solution": false
    }
   },
   "source": [
    "## Exercise 06.3 (indexing)\n",
    "\n",
    "Write a function that uses list indexing to add two vectors of arbitrary length, and returns the new vector. Include a check that the vector sizes match. Print a warning message if there is a size mismatch. The more error information you provide, the easier it would be for someone using your function to debug their code.\n",
    "\n",
    "Add some tests of your code.\n",
    "\n",
    "#### Hint: You can create a list of zeros of length `n` by\n",
    "\n",
    "    z = [0]*n"
   ]
  },
  {
   "cell_type": "code",
   "execution_count": 15,
   "metadata": {
    "nbgrader": {
     "grade": false,
     "grade_id": "cell-47daca03f7a96b62",
     "locked": false,
     "schema_version": 3,
     "solution": true
    },
    "tags": [
     "otter_answer_cell"
    ]
   },
   "outputs": [],
   "source": [
    "def sum_vector(x, y):\n",
    "    \"\"\"Return sum of two vectors\"\"\"\n",
    "    z = [0] * len(x)\n",
    "    for i in range(len(x)):\n",
    "        z[i] = x[i] + y[i]\n",
    "    return z"
   ]
  },
  {
   "cell_type": "code",
   "execution_count": 16,
   "metadata": {
    "deletable": false,
    "editable": false,
    "nbgrader": {
     "grade": true,
     "grade_id": "cell-95f5819810d2b2c7",
     "locked": true,
     "points": 0,
     "schema_version": 3,
     "solution": false
    }
   },
   "outputs": [],
   "source": [
    "# tests ##\n",
    "a = [0, 4.3, -5, 7]\n",
    "b = [-2, 7, -15, 1]\n",
    "c = sum_vector(a, b)\n",
    "assert c == [-2, 11.3, -20, 8]"
   ]
  },
  {
   "cell_type": "markdown",
   "metadata": {
    "deletable": false,
    "editable": false
   },
   "source": [
    "### Optional (advanced) \n",
    "\n",
    "Try writing a one-line version that performs the `sum_vector` operation using list comprehension and the built-in function [`zip`](https://docs.python.org/3/library/functions.html#zip)."
   ]
  },
  {
   "cell_type": "code",
   "execution_count": 18,
   "metadata": {
    "nbgrader": {
     "grade": true,
     "grade_id": "cell-c182b3f0d8952692",
     "locked": false,
     "points": 0,
     "schema_version": 3,
     "solution": true
    },
    "tags": [
     "otter_answer_cell"
    ]
   },
   "outputs": [
    {
     "name": "stdout",
     "output_type": "stream",
     "text": [
      "[-2, 11.3, -20, 8]\n"
     ]
    }
   ],
   "source": [
    "a = [0, 4.3, -5, 7]\n",
    "b = [-2, 7, -15, 1]\n",
    "c = [i+j for i, j in zip(a, b)]\n",
    "print(c)"
   ]
  },
  {
   "cell_type": "markdown",
   "metadata": {
    "deletable": false,
    "editable": false
   },
   "source": [
    "## Exercise 06.4 (dictionaries)\n",
    "\n",
    "Create a dictionary that maps college names (the key) to college abbreviations for at least 5 colleges\n",
    "(you can find abbreviations at https://en.wikipedia.org/wiki/Colleges_of_the_University_of_Cambridge#Colleges).\n",
    "From the dictionary, produce and print\n",
    "\n",
    "1. A Python dictionary from college abbreviation to name; and\n",
    "1. A Python list of college abbreviations sorted into alphabetical order.\n",
    "\n",
    "*Optional extension:* Create a dictionary that maps college names (the key) to dictionaries of:\n",
    "\n",
    "- College abbreviation\n",
    "- Year of foundation \n",
    "- Total number students\n",
    " \n",
    "for at least 5 colleges. Take the data from https://en.wikipedia.org/wiki/Colleges_of_the_University_of_Cambridge#Colleges. Using this dictionary, \n",
    "\n",
    "1. Find the college with the greatest number of students and print the abbreviation; and \n",
    "2. Find the oldest college, and print the number of students and the abbreviation for this college."
   ]
  },
  {
   "cell_type": "code",
   "execution_count": null,
   "metadata": {
    "nbgrader": {
     "grade": false,
     "grade_id": "cell-bc271dc3885e19c5",
     "locked": false,
     "schema_version": 3,
     "solution": true
    },
    "tags": [
     "otter_answer_cell"
    ]
   },
   "outputs": [
    {
     "name": "stdout",
     "output_type": "stream",
     "text": [
      "{\"Queens'\": 'Q', \"King's\": 'K', 'Trinity': 'T', \"St John's\": 'JN', \"Christ's\": 'CHR'}\n",
      "{'CHR': \"Christ's\", 'JN': \"St John's\", 'K': \"King's\", 'Q': \"Queens'\", 'T': 'Trinity'}\n"
     ]
    }
   ],
   "source": [
    "cambcol = {\n",
    "    \"Queens'\": \"Q\", \n",
    "    \"King's\": \"K\", \n",
    "    \"Trinity\": \"T\", \n",
    "    \"St John's\": \"JN\", \n",
    "    \"Christ's\": \"CHR\"\n",
    "    }\n",
    "\n",
    "print(cambcol)\n",
    "\n",
    "reverse = {k:v for v,k in cambcol.items()}\n",
    "\n",
    "sorted_cambcol = dict(sorted(reverse.items()))\n",
    "print(sorted_cambcol)\n",
    "\n",
    "\n"
   ]
  },
  {
   "cell_type": "markdown",
   "metadata": {
    "deletable": false,
    "editable": false,
    "nbgrader": {
     "grade": false,
     "grade_id": "cell-45d2551a524193b0",
     "locked": true,
     "schema_version": 3,
     "solution": false
    }
   },
   "source": [
    "#### Optional extension"
   ]
  },
  {
   "cell_type": "code",
   "execution_count": 35,
   "metadata": {
    "nbgrader": {
     "grade": false,
     "grade_id": "cell-7040c4053c72ce09",
     "locked": false,
     "schema_version": 3,
     "solution": true
    },
    "tags": [
     "otter_answer_cell"
    ]
   },
   "outputs": [
    {
     "name": "stdout",
     "output_type": "stream",
     "text": [
      "Q\n",
      "825\n"
     ]
    }
   ],
   "source": [
    "camb = {\n",
    "    \"Queens'\": {\"Abbreviation\": \"Q\"\n",
    "                , \"Founded\": 1448\n",
    "                , \"Students\": 1068}, \n",
    "    \"King's\": {\"Abbreviation\": \"K\"\n",
    "                , \"Founded\": 1441\n",
    "                , \"Students\": 825}, \n",
    "    \"Trinity\": {\"Abbreviation\": \"T\"\n",
    "                , \"Founded\": 1546\n",
    "                , \"Students\": 1019}, \n",
    "    \"St John's\": {\"Abbreviation\": \"JN\"\n",
    "                , \"Founded\": 1511\n",
    "                , \"Students\": 956}, \n",
    "    \"Christ's\": {\"Abbreviation\": \"CHR\"\n",
    "                , \"Founded\": 1505\n",
    "                , \"Students\": 727}\n",
    "    }\n",
    "\n",
    "m = 0\n",
    "name = ''\n",
    "for i in camb:\n",
    "    if camb[i][\"Students\"] > m:\n",
    "        name = camb[i][\"Abbreviation\"]\n",
    "    m = max(m, camb[i][\"Students\"])\n",
    "\n",
    "print(name)\n",
    "\n",
    "age = 1e10\n",
    "num = 0\n",
    "for j in camb:\n",
    "    if camb[j][\"Founded\"] < age:\n",
    "        num = camb[j][\"Students\"]\n",
    "    age = min(age, camb[j][\"Founded\"])\n",
    "\n",
    "print(num)"
   ]
  }
 ],
 "metadata": {
  "celltoolbar": "Create Assignment",
  "kernelspec": {
   "display_name": "Python 3",
   "language": "python",
   "name": "python3"
  },
  "language_info": {
   "codemirror_mode": {
    "name": "ipython",
    "version": 3
   },
   "file_extension": ".py",
   "mimetype": "text/x-python",
   "name": "python",
   "nbconvert_exporter": "python",
   "pygments_lexer": "ipython3",
   "version": "3.13.7"
  },
  "otter": {
   "OK_FORMAT": true,
   "assignment_name": "Exercises 6",
   "tests": {}
  }
 },
 "nbformat": 4,
 "nbformat_minor": 4
}
